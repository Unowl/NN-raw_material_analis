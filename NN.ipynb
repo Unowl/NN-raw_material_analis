{
  "nbformat": 4,
  "nbformat_minor": 0,
  "metadata": {
    "colab": {
      "name": "NN.ipynb",
      "provenance": []
    },
    "kernelspec": {
      "name": "python3",
      "display_name": "Python 3"
    },
    "language_info": {
      "name": "python"
    }
  },
  "cells": [
    {
      "cell_type": "code",
      "metadata": {
        "id": "0TPNJdGsZjL8"
      },
      "source": [
        "import os\n",
        "os.environ['TF_CPP_MIN_LOG_LEVEL'] = '2'\n",
        " \n",
        "import tensorflow as tf\n",
        "from tensorflow import keras\n",
        "from tensorflow.keras import layers\n",
        "from tensorflow.keras.datasets import mnist\n",
        "from tensorflow import keras\n",
        "from tensorflow.keras import layers\n",
        "from tensorflow.keras.models import Sequential\n",
        "from tensorflow.keras.layers import BatchNormalization\n",
        "import pathlib\n",
        "import numpy as np"
      ],
      "execution_count": null,
      "outputs": []
    },
    {
      "cell_type": "code",
      "metadata": {
        "id": "nfRPiw2tmmEr"
      },
      "source": [
        "img_height = 224 \n",
        "img_width = 224\n",
        "class_names = ['High_quality_raw_materials', 'Low_quality_raw_materials']"
      ],
      "execution_count": null,
      "outputs": []
    },
    {
      "cell_type": "code",
      "metadata": {
        "id": "T2Vu0NjcmhlL"
      },
      "source": [
        "data_augmentation = tf.keras.Sequential(\n",
        "  [\n",
        "    layers.experimental.preprocessing.RandomFlip(\"horizontal\", \n",
        "                                                 input_shape=(img_height, \n",
        "                                                              img_width,\n",
        "                                                              3)),\n",
        "    layers.experimental.preprocessing.RandomRotation(0.05),\n",
        "    layers.experimental.preprocessing.RandomZoom(0.05),\n",
        "    #layers.RandomTranslation(height_factor=0.2, width_factor=0.2, fill_mode=\"constant\")\n",
        "  ]\n",
        ")"
      ],
      "execution_count": null,
      "outputs": []
    },
    {
      "cell_type": "code",
      "metadata": {
        "id": "wx8Hc0camVvE"
      },
      "source": [
        "num_classes = 2\n",
        "model_loaded = Sequential([\n",
        "  data_augmentation,\n",
        "  layers.experimental.preprocessing.Rescaling(1./255),\n",
        "  layers.Conv2D(16, 3, padding='same', activation='relu'),\n",
        "  BatchNormalization(),\n",
        "  layers.MaxPooling2D(),\n",
        "  layers.Conv2D(32, 3, padding='same', activation='relu'),\n",
        "  layers.MaxPooling2D(),\n",
        "  layers.Conv2D(64, 3, padding='same', activation='relu'),\n",
        "  layers.MaxPooling2D(),\n",
        "  layers.Dropout(0.2),\n",
        "  layers.Flatten(),\n",
        "  layers.Dense(128, activation='relu'),\n",
        "  layers.Dropout(0.2),\n",
        "  layers.Dense(num_classes)\n",
        "])"
      ],
      "execution_count": null,
      "outputs": []
    },
    {
      "cell_type": "code",
      "metadata": {
        "id": "jV9A-PBvaWF3"
      },
      "source": [
        "model_loaded.load_weights('my_model.h5')\n"
      ],
      "execution_count": null,
      "outputs": []
    },
    {
      "cell_type": "code",
      "metadata": {
        "colab": {
          "base_uri": "https://localhost:8080/"
        },
        "id": "6RGEFbFOsvwd",
        "outputId": "7399b2d5-1e05-464a-afdd-644a6dfe217b"
      },
      "source": [
        "image = pathlib.Path('I')\n",
        "image = tf.keras.preprocessing.image_dataset_from_directory(\n",
        "  image,\n",
        "  label_mode=None,\n",
        "  seed=123,\n",
        "  image_size=(img_height, img_width),\n",
        "  shuffle=False)\n"
      ],
      "execution_count": null,
      "outputs": [
        {
          "output_type": "stream",
          "name": "stdout",
          "text": [
            "Found 1 files belonging to 1 classes.\n"
          ]
        }
      ]
    },
    {
      "cell_type": "code",
      "metadata": {
        "id": "JLSdLwBhs4yk"
      },
      "source": [
        "predictions = model_loaded.predict(image)"
      ],
      "execution_count": null,
      "outputs": []
    },
    {
      "cell_type": "code",
      "metadata": {
        "colab": {
          "base_uri": "https://localhost:8080/"
        },
        "id": "jiYjyQbkszSt",
        "outputId": "675bab3f-ab21-400c-dfb0-ac122b6a9e45"
      },
      "source": [
        "score = tf.nn.softmax(predictions)\n",
        "print(\n",
        "    \"class: {} with a {:.2f} confidence.\"\n",
        "    .format(class_names[np.argmax(score)], 100 * np.max(score))\n",
        "    )"
      ],
      "execution_count": null,
      "outputs": [
        {
          "output_type": "stream",
          "name": "stdout",
          "text": [
            "class: High_quality_raw_materials with a 100.00 confidence.\n"
          ]
        }
      ]
    }
  ]
}